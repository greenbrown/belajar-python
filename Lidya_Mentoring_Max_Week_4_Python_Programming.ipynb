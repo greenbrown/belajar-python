{
  "nbformat": 4,
  "nbformat_minor": 0,
  "metadata": {
    "colab": {
      "provenance": [],
      "collapsed_sections": [
        "xsUAqsjvIBVH",
        "EOdMk1QDDWhA",
        "rw6bdBFrDWhh"
      ],
      "include_colab_link": true
    },
    "kernelspec": {
      "name": "python3",
      "display_name": "Python 3"
    },
    "language_info": {
      "name": "python"
    }
  },
  "cells": [
    {
      "cell_type": "markdown",
      "metadata": {
        "id": "view-in-github",
        "colab_type": "text"
      },
      "source": [
        "<a href=\"https://colab.research.google.com/github/greenbrown/belajar-python/blob/main/Lidya_Mentoring_Max_Week_4_Python_Programming.ipynb\" target=\"_parent\"><img src=\"https://colab.research.google.com/assets/colab-badge.svg\" alt=\"Open In Colab\"/></a>"
      ]
    },
    {
      "cell_type": "markdown",
      "source": [
        "# Week 4 - Python Programming\n",
        "---\n",
        "\n",
        "Mentoring Session - Job Preparation Program - Pacmann AI"
      ],
      "metadata": {
        "id": "oiHKP1fFcQg8"
      }
    },
    {
      "cell_type": "markdown",
      "source": [
        "# Task 1. Find a Double Promo User\n",
        "\n",
        "Category: Medium\n",
        "\n",
        "---"
      ],
      "metadata": {
        "id": "mXjAL-TyG8O_"
      }
    },
    {
      "cell_type": "markdown",
      "source": [
        "**Task Descriptions**\n",
        "- Given lists of `user_id`, `promo_A_status`, `promo_B_status`\n",
        "- Your task is to calculate how many user get a double promo (promo A and B)"
      ],
      "metadata": {
        "id": "ABI5GvUJG8Pc"
      }
    },
    {
      "cell_type": "markdown",
      "source": [
        "Example\n",
        "- `user_id = [3, 4, 5]`\n",
        "- `promo_A_status = [0, 1, 1]`\n",
        "  - This means, `user_id` 4 and 5 get promo A\n",
        "\n",
        "- `promo_B_status = [1, 1, 0]`\n",
        "  - This means, `user_id` 3 and 4 get promo B\n",
        "\n",
        "- So, the `user_id` whose get double promo are 1 user, that is user 4"
      ],
      "metadata": {
        "id": "XLHq0gYTG8Pd"
      }
    },
    {
      "cell_type": "markdown",
      "source": [
        "---\n",
        "**Detail input & output**\n",
        "\n",
        "There are three input:\n",
        "- `user_id`, a list\n",
        "- `promo_A_status`, a list\n",
        "- `promo_B_status`, a list\n",
        "\n",
        "There is a single output:\n",
        "- `int`"
      ],
      "metadata": {
        "id": "vEo-2aqdG8Pd"
      }
    },
    {
      "cell_type": "markdown",
      "source": [
        "---\n",
        "**Input 1**\n",
        "\n",
        "```python\n",
        "user_id = [1, 2, 3, 4, 5]\n",
        "promo_A_status = [1, 0, 1, 1, 0]\n",
        "promo_B_status = [0, 0, 1, 1, 1]\n",
        "```"
      ],
      "metadata": {
        "id": "uEvK7MaKG8Pe"
      }
    },
    {
      "cell_type": "markdown",
      "source": [
        "**Output - 1**\n",
        "```\n",
        "Number of user with double promo: 2\n",
        "```"
      ],
      "metadata": {
        "id": "PXREvNm9G8Pf"
      }
    },
    {
      "cell_type": "markdown",
      "source": [
        "---\n",
        "**Input 2**\n",
        "\n",
        "```python\n",
        "user_id = [11, 21, 34, 49, 51]\n",
        "promo_A_status = [1, 1, 0, 1, 0]\n",
        "promo_B_status = [0, 0, 0, 0, 1]\n",
        "```"
      ],
      "metadata": {
        "id": "PKYSd19CG8Pf"
      }
    },
    {
      "cell_type": "markdown",
      "source": [
        "**Output - 2**\n",
        "```\n",
        "Number of user with double promo: 0\n",
        "```"
      ],
      "metadata": {
        "id": "e-p8i00SG8Pg"
      }
    },
    {
      "cell_type": "markdown",
      "source": [
        "**Questions 1**\n",
        "\n",
        "---\n",
        "Provide the code for solving the problem"
      ],
      "metadata": {
        "id": "gBGxpAtzG8Pg"
      }
    },
    {
      "cell_type": "code",
      "execution_count": null,
      "metadata": {
        "id": "YBvgO1y4G8Ph",
        "outputId": "598af3fc-8066-406e-c2f9-dc72fb5274da",
        "colab": {
          "base_uri": "https://localhost:8080/"
        }
      },
      "outputs": [
        {
          "output_type": "stream",
          "name": "stdout",
          "text": [
            "Number of users with double promo: 1\n"
          ]
        }
      ],
      "source": [
        "# Write your code here\n",
        "# Note: You can write your input manually\n",
        "user_id_2 = [11, 21, 34, 49, 51]\n",
        "promo_A_status_2 = [1, 1, 1, 1, 0]\n",
        "promo_B_status_2 = [0, 0, 1, 0, 1]\n",
        "\n",
        "def find_double_promo_users(user_id, promo_A_status, promo_B_status):\n",
        "    # Initialize counter for double promo users\n",
        "    double_promo_count = 0\n",
        "\n",
        "    # Loop through the lists to check for double promo\n",
        "    for a, b in zip(promo_A_status, promo_B_status):\n",
        "        if a == 1 and b == 1:\n",
        "            double_promo_count += 1\n",
        "\n",
        "    return double_promo_count\n",
        "\n",
        "\n",
        "# user_id_1 = [1, 2, 3, 4, 5]\n",
        "# promo_A_status_1 = [1, 0, 1, 1, 0]\n",
        "# promo_B_status_1 = [0, 0, 1, 1, 1]\n",
        "# print(\"Number of users with double promo:\", find_double_promo_users(user_id_1, promo_A_status_1, promo_B_status_1))\n",
        "\n",
        "\n",
        "print(\"Number of users with double promo:\", find_double_promo_users(user_id_2, promo_A_status_2, promo_B_status_2))\n"
      ]
    },
    {
      "cell_type": "markdown",
      "source": [
        "# Task 2. Find a Double Promo User - Continued\n",
        "\n",
        "Category: Medium\n",
        "\n",
        "---"
      ],
      "metadata": {
        "id": "HBpPiNIxd7os"
      }
    },
    {
      "cell_type": "markdown",
      "source": [
        "**Task Descriptions**\n",
        "- Given lists of `user_id`, `promo_A_status`, `promo_B_status`\n",
        "- Your task is to find which `user_id` get double promo (promo A and B)"
      ],
      "metadata": {
        "id": "2t4h6o_Kd7ou"
      }
    },
    {
      "cell_type": "markdown",
      "source": [
        "Example\n",
        "- `user_id = [3, 4, 5]`\n",
        "- `promo_A_status = [0, 1, 1]`\n",
        "  - This means, `user_id` 4 and 5 get promo A\n",
        "\n",
        "- `promo_B_status = [1, 1, 0]`\n",
        "  - This means, `user_id` 3 and 4 get promo B\n",
        "\n",
        "- So, the `user_id` whose get double promo are `[4]`"
      ],
      "metadata": {
        "id": "Un7YVLQPFCi5"
      }
    },
    {
      "cell_type": "markdown",
      "source": [
        "---\n",
        "**Detail input & output**\n",
        "\n",
        "There are three input:\n",
        "- `user_id`, a list\n",
        "- `promo_A_status`, a list\n",
        "- `promo_B_status`, a list\n",
        "\n",
        "There is a single output:\n",
        "- a list of `user_id` with double promo"
      ],
      "metadata": {
        "id": "j860MLyGECzr"
      }
    },
    {
      "cell_type": "markdown",
      "source": [
        "---\n",
        "**Input 1**\n",
        "\n",
        "```python\n",
        "user_id = [1, 2, 3, 4, 5]\n",
        "promo_A_status = [1, 0, 1, 1, 0]\n",
        "promo_B_status = [0, 0, 1, 1, 1]\n",
        "```"
      ],
      "metadata": {
        "id": "SXFeDQkLd7ow"
      }
    },
    {
      "cell_type": "markdown",
      "source": [
        "**Output - 1**\n",
        "```\n",
        "user_id with double promo: [3, 4]\n",
        "```"
      ],
      "metadata": {
        "id": "sHSt4LBEd7ox"
      }
    },
    {
      "cell_type": "markdown",
      "source": [
        "---\n",
        "**Input 2**\n",
        "\n",
        "```python\n",
        "user_id = [11, 21, 34, 49, 51]\n",
        "promo_A_status = [1, 1, 0, 1, 0]\n",
        "promo_B_status = [0, 0, 0, 0, 1]\n",
        "```"
      ],
      "metadata": {
        "id": "xu4cr_vmEwC8"
      }
    },
    {
      "cell_type": "markdown",
      "source": [
        "**Output - 2**\n",
        "```\n",
        "user_id with double promo: []\n",
        "```"
      ],
      "metadata": {
        "id": "t3S7YYkjEwDh"
      }
    },
    {
      "cell_type": "markdown",
      "source": [
        "**Questions 1**\n",
        "\n",
        "---\n",
        "Provide the code for solving the problem"
      ],
      "metadata": {
        "id": "MZQqVz_wFlVR"
      }
    },
    {
      "cell_type": "code",
      "execution_count": null,
      "metadata": {
        "id": "WKfZRoC5FlVb",
        "colab": {
          "base_uri": "https://localhost:8080/"
        },
        "outputId": "efc0c5fc-f784-4503-e085-158a5ae501e2"
      },
      "outputs": [
        {
          "output_type": "stream",
          "name": "stdout",
          "text": [
            "user_id with double promo: [3, 4]\n"
          ]
        }
      ],
      "source": [
        "# Write your code here\n",
        "# Note: You can write your input manually\n",
        "user_id_1 = [1, 2, 3, 4, 5]\n",
        "promo_A_status_1 = [1, 0, 1, 1, 0]\n",
        "promo_B_status_1 = [0, 0, 1, 1, 1]\n",
        "\n",
        "def find_double_promo_users(user_id, promo_A_status, promo_B_status):\n",
        "    # List to store user IDs with double promos\n",
        "    double_promo_users = []\n",
        "\n",
        "    # Loop through the lists to check for double promo\n",
        "    for uid, a, b in zip(user_id, promo_A_status, promo_B_status):\n",
        "        if a == 1 and b == 1:\n",
        "            double_promo_users.append(uid)\n",
        "\n",
        "    return double_promo_users\n",
        "\n",
        "print(\"user_id with double promo:\", find_double_promo_users(user_id_1, promo_A_status_1, promo_B_status_1))\n",
        "\n",
        "# Input\n",
        "# user_id_2 = [11, 21, 34, 49, 51]\n",
        "# promo_A_status_2 = [1, 1, 0, 1, 0]\n",
        "# promo_B_status_2 = [0, 0, 0, 0, 1]\n",
        "# print(\"user_id with double promo:\", find_double_promo_users(user_id_2, promo_A_status_2, promo_B_status_2))\n"
      ]
    },
    {
      "cell_type": "markdown",
      "source": [
        "# Task 3. Calculate number of gender in a data\n",
        "\n",
        "Category: Medium\n",
        "\n",
        "---"
      ],
      "metadata": {
        "id": "oMGlSKoCfuy-"
      }
    },
    {
      "cell_type": "markdown",
      "source": [
        "**Task Descriptions**\n",
        "- Given a list of gender, your task is to extract the number people in each gender and return it as a dictionary.\n",
        "\n",
        "Example\n",
        "- `a = ['male', 'female', 'male', 'female', 'female']`\n",
        "- So there are 2 males & 3 females\n",
        "- Thus our output would be `{'male': 2, 'female': 3}`"
      ],
      "metadata": {
        "id": "zA6xNheyfuzA"
      }
    },
    {
      "cell_type": "markdown",
      "source": [
        "---\n",
        "**Detail input & output**\n",
        "\n",
        "- input: `a`, list of gender\n",
        "- output: `dict`"
      ],
      "metadata": {
        "id": "_49cXcNALgQu"
      }
    },
    {
      "cell_type": "markdown",
      "source": [
        "---\n",
        "**Input - 1**\n",
        "\n",
        "```python\n",
        "a = ['male', 'female', 'female', 'male']\n",
        "```"
      ],
      "metadata": {
        "id": "mAxaxYujfuzD"
      }
    },
    {
      "cell_type": "markdown",
      "source": [
        "**Output**\n",
        "```python\n",
        "{'male': 2, 'female': 2}\n",
        "```"
      ],
      "metadata": {
        "id": "S89bi74tfuzE"
      }
    },
    {
      "cell_type": "markdown",
      "source": [
        "---\n",
        "**Input - 2**\n",
        "\n",
        "```python\n",
        "a = ['female', 'female', 'female', 'female']\n",
        "```"
      ],
      "metadata": {
        "id": "jjlTB8WCL4-R"
      }
    },
    {
      "cell_type": "markdown",
      "source": [
        "**Output**\n",
        "```python\n",
        "{'male': 0, 'female': 4}\n",
        "```"
      ],
      "metadata": {
        "id": "Ge1lVkoML4-_"
      }
    },
    {
      "cell_type": "markdown",
      "source": [
        "**Questions 1**\n",
        "\n",
        "---\n",
        "Provide the code for solving the problem"
      ],
      "metadata": {
        "id": "sQIvVCy3L_6P"
      }
    },
    {
      "cell_type": "code",
      "execution_count": null,
      "metadata": {
        "id": "w1W-tjIML_6R",
        "colab": {
          "base_uri": "https://localhost:8080/"
        },
        "outputId": "cb90fe70-66dc-4f8a-e37f-4a902da38263"
      },
      "outputs": [
        {
          "output_type": "stream",
          "name": "stdout",
          "text": [
            "{'male': 3, 'female': 1}\n",
            "{'male': 0, 'female': 4}\n"
          ]
        }
      ],
      "source": [
        "# Write your code here\n",
        "# Note: You can write your input manually\n",
        "\n",
        "def count_gender(a):\n",
        "    # Initialize dictionary with zero counts for 'male' and 'female'\n",
        "    gender_count = {'male': 0, 'female': 0}\n",
        "\n",
        "    # Count each gender in the list\n",
        "    for gender in a:\n",
        "        if gender in gender_count:\n",
        "            gender_count[gender] += 1\n",
        "\n",
        "    return gender_count\n",
        "\n",
        "# Test Cases\n",
        "a1 = ['male', 'female', 'male', 'male']\n",
        "print(count_gender(a1))  # Output: {'male': 2, 'female': 2}\n",
        "\n",
        "a2 = ['female', 'female', 'female', 'female']\n",
        "print(count_gender(a2))  # Output: {'male': 0, 'female': 4}\n"
      ]
    },
    {
      "cell_type": "markdown",
      "source": [
        "# Task 4. Fibonacci Prime\n",
        "\n",
        "Category: Medium\n",
        "\n",
        "---"
      ],
      "metadata": {
        "id": "xsUAqsjvIBVH"
      }
    },
    {
      "cell_type": "markdown",
      "source": [
        "## Task Descriptions\n",
        "---\n",
        "- Create a function to find the first `n` Fibonacci Prime Number."
      ],
      "metadata": {
        "id": "umey3GqiIBVK"
      }
    },
    {
      "cell_type": "markdown",
      "source": [
        "**Fibonacci number**\n",
        "- Fibonacci number is a number that follows this sequence\n",
        "\n",
        "$$\n",
        "n_{i} = n_{i-1} + n_{i-2}\n",
        "$$"
      ],
      "metadata": {
        "id": "0_ax_ZPM398v"
      }
    },
    {
      "cell_type": "markdown",
      "source": [
        "- with $n_{1}=1$ and $n_{2}=1$\n",
        "- So, the first 10 Fibonacci number is\n",
        "\n",
        "$$\n",
        "1, 1, 2, 3, 5, 8, 13, 21, 34, 55\n",
        "$$"
      ],
      "metadata": {
        "id": "kwWpm7zp4Cx4"
      }
    },
    {
      "cell_type": "markdown",
      "source": [
        "**Prime number**\n",
        "- A prime number is a number which only have 2 divisors, that is $1$ and the number itself.\n",
        "- Example\n",
        "  - $2$ is a prime number. Divisors of $2$ are $1$ and $2$\n",
        "  - $10$ is **not** a prime number. Divisors of $10$ are $1$, $2$, $5$, and $10$.\n",
        "  - $13$ is a prime number. Divisors of $13$ are $1$ and $13$"
      ],
      "metadata": {
        "id": "z-x0d-cx4SbE"
      }
    },
    {
      "cell_type": "markdown",
      "source": [
        "## Detail function\n",
        "---"
      ],
      "metadata": {
        "id": "_EeYAzGD4sCG"
      }
    },
    {
      "cell_type": "markdown",
      "source": [
        "- Create a function named `fibonacci_prime` with\n",
        "  - Input `n` (integer)\n",
        "  - Output `numbers` (list), contains the first `n` Fibonacci prime number"
      ],
      "metadata": {
        "id": "jHWrNQO_4zos"
      }
    },
    {
      "cell_type": "markdown",
      "source": [
        "## Examples\n",
        "---"
      ],
      "metadata": {
        "id": "XXX4U4eA5RgM"
      }
    },
    {
      "cell_type": "markdown",
      "source": [
        "**Input 1**\n",
        "\n",
        "```python\n",
        "# Input\n",
        "res = fibonacci_prime(n = 5)\n",
        "print(res)\n",
        "```\n",
        "\n",
        "**Output 1**\n",
        "```python\n",
        "[2, 3, 5, 13, 89]\n",
        "```"
      ],
      "metadata": {
        "id": "X6-yzPcg6m5T"
      }
    },
    {
      "cell_type": "markdown",
      "source": [
        "**Input 2**\n",
        "\n",
        "```python\n",
        "# Input\n",
        "res = fibonacci_prime(n = 10)\n",
        "print(res)\n",
        "```\n",
        "\n",
        "**Output 2**\n",
        "```python\n",
        "[2, 3, 5, 13, 89, 233, 1597, 28657, 514229, 433494437]\n",
        "```"
      ],
      "metadata": {
        "id": "jYhlUltJ6-7P"
      }
    },
    {
      "cell_type": "markdown",
      "source": [
        "## Answer\n",
        "\n",
        "---\n",
        "- Provide the code for solving the problem\n",
        "- **Make sure your function follows the `Detail Function`**"
      ],
      "metadata": {
        "id": "5bdXSNiOIBVW"
      }
    },
    {
      "cell_type": "code",
      "execution_count": null,
      "metadata": {
        "id": "ef5DHr8rIBVX",
        "colab": {
          "base_uri": "https://localhost:8080/"
        },
        "outputId": "fa458b12-d5ee-440b-bf2a-52160a46e969"
      },
      "outputs": [
        {
          "output_type": "stream",
          "name": "stdout",
          "text": [
            "[2, 3, 5, 13, 89]\n",
            "[2, 3, 5, 13, 89, 233, 1597, 28657, 514229, 433494437]\n"
          ]
        }
      ],
      "source": [
        "# Write your code here\n",
        "# Note: You can write your input manually\n",
        "\n",
        "def is_prime(num):\n",
        "    \"\"\"Check if a number is prime.\"\"\"\n",
        "    if num <= 1:\n",
        "        return False\n",
        "    for i in range(2, int(num**0.5) + 1):\n",
        "        if num % i == 0:\n",
        "            return False\n",
        "    return True\n",
        "\n",
        "def fibonacci_primes(n):\n",
        "    \"\"\"Find the first n Fibonacci prime numbers.\"\"\"\n",
        "    fib_primes = []  # List to store Fibonacci primes\n",
        "    a, b = 1, 1      # Initial Fibonacci numbers\n",
        "\n",
        "    while len(fib_primes) < n:\n",
        "        # Check if the current Fibonacci number is prime\n",
        "        if is_prime(a):\n",
        "            fib_primes.append(a)\n",
        "\n",
        "        # Generate the next Fibonacci number\n",
        "        a, b = b, a + b\n",
        "\n",
        "    return fib_primes\n",
        "\n",
        "# Test Cases\n",
        "print(fibonacci_primes(5))  # Output: [2, 3, 5, 13, 89]\n",
        "print(fibonacci_primes(10)) # Output: [2, 3, 5, 13, 89, 233, 1597, 28657, 514229, 433494437]"
      ]
    },
    {
      "cell_type": "markdown",
      "source": [],
      "metadata": {
        "id": "t8m0jPoOizGH"
      }
    },
    {
      "cell_type": "markdown",
      "source": [
        "# Task 5. Accuracy Metrics in Classifications\n",
        "\n",
        "Category: Medium\n",
        "\n",
        "---"
      ],
      "metadata": {
        "id": "1Lvmi7SKAR2A"
      }
    },
    {
      "cell_type": "markdown",
      "source": [
        "## Task Descriptions\n",
        "---\n",
        "- Create a **lambda** function to calculate the accuracy of given prediction"
      ],
      "metadata": {
        "id": "KOrJ-tmbAR2X"
      }
    },
    {
      "cell_type": "markdown",
      "source": [
        "**Accuracy**\n",
        "- You can use accuracy metrics to measure classification model performance.\n",
        "- Given a below data\n",
        "\n",
        "<center>\n",
        "\n",
        "|Real Value|Predicted Value|Status|\n",
        "|:--:|:--:|:--:|\n",
        "|1|0|**False** prediction|\n",
        "|1|1|Correct prediction|\n",
        "|0|0|Correct prediction|\n",
        "|0|1|**False** prediction|\n",
        "|1|1|Correct prediction|\n",
        "|1|1|Correct prediction|\n",
        "|0|0|Correct prediction|\n",
        "|1|1|Correct prediction|\n",
        "\n",
        "</center>\n",
        "\n",
        "- If you predict `0` and the real value is `0`, you predict correctly\n",
        "- If you predict `1` and the real value is `1`, you predict correctly\n",
        "- If you predict `0` while the real value is `1`, you mispredict it.\n",
        "- If you predict `1` while the real value is `0`, you also mispredict it."
      ],
      "metadata": {
        "id": "5oeDx6NCAR2X"
      }
    },
    {
      "cell_type": "markdown",
      "source": [
        "- How to calculate accuracy?\n",
        "\n",
        "$$\n",
        "\\text{accuracy}\n",
        "=\n",
        "\\cfrac\n",
        "{\\text{number of correct}}\n",
        "{\\text{number of all data}}\n",
        "$$\n",
        "\n",
        "- So, based on the above table\n",
        "\n",
        "$$\n",
        "\\begin{align*}\n",
        "\\text{accuracy}\n",
        "&=\n",
        "\\cfrac\n",
        "{\\text{number of correct prediction}}\n",
        "{\\text{number of all data}} \\\\\n",
        "&=\n",
        "\\cfrac\n",
        "{6}\n",
        "{8} \\\\\n",
        "\\text{accuracy}\n",
        "&=\n",
        "0.75\n",
        "\\end{align*}\n",
        "$$"
      ],
      "metadata": {
        "id": "NK8py0H9A-JI"
      }
    },
    {
      "cell_type": "markdown",
      "source": [
        "## Detail function\n",
        "---"
      ],
      "metadata": {
        "id": "fTGn2luKAR2Y"
      }
    },
    {
      "cell_type": "markdown",
      "source": [
        "- Create a **lambda** function named `calculate_accuracy` with\n",
        "  - Input\n",
        "    - `y_actual` (list), contains the true value\n",
        "    - `y_predicted` (list), contains the predicted value\n",
        "  - Output `accuracy` (float), contains the accuracy metrics"
      ],
      "metadata": {
        "id": "tEaLWiIZAR2Y"
      }
    },
    {
      "cell_type": "markdown",
      "source": [
        "## Examples\n",
        "---"
      ],
      "metadata": {
        "id": "k7TYvpqPAR2Z"
      }
    },
    {
      "cell_type": "markdown",
      "source": [
        "**Input 1**\n",
        "\n",
        "```python\n",
        "# Input\n",
        "y_actual = [1, 1, 0, 0, 1, 1, 0, 1]\n",
        "y_predicted = [0, 1, 0, 1, 1, 1, 0, 1]\n",
        "\n",
        "res = calculate_accuracy(y_actual, y_predicted)\n",
        "print(res)\n",
        "```\n",
        "\n",
        "**Output 1**\n",
        "```python\n",
        "0.75\n",
        "```"
      ],
      "metadata": {
        "id": "xBisqn3HAR2Z"
      }
    },
    {
      "cell_type": "markdown",
      "source": [
        "**Input 2**\n",
        "\n",
        "```python\n",
        "# Input\n",
        "y_actual = [1, 1, -1, -1, 1, 1, -1, 1, -1, -1]\n",
        "y_predicted = [-1, 1, -1, -1, -1, 1, -1, 1, -1, 1]\n",
        "\n",
        "res = calculate_accuracy(y_actual, y_predicted)\n",
        "print(res)\n",
        "```\n",
        "\n",
        "**Output 2**\n",
        "```python\n",
        "0.7\n",
        "```"
      ],
      "metadata": {
        "id": "mQnbYJYlAR2Z"
      }
    },
    {
      "cell_type": "markdown",
      "source": [
        "## Answer\n",
        "\n",
        "---\n",
        "- Provide the code for solving the problem\n",
        "- **Make sure your function follows the `Detail Function`**"
      ],
      "metadata": {
        "id": "2ifQ4p2BAR2Z"
      }
    },
    {
      "cell_type": "code",
      "execution_count": null,
      "metadata": {
        "id": "QqG_g8VWAR2a",
        "colab": {
          "base_uri": "https://localhost:8080/"
        },
        "outputId": "e2fc29c9-46c0-48cd-c48b-fbd1b3616121"
      },
      "outputs": [
        {
          "output_type": "stream",
          "name": "stdout",
          "text": [
            "0.75\n",
            "0.7\n"
          ]
        }
      ],
      "source": [
        "# Write your code here\n",
        "# Note: You can write your input manually\n",
        "\n",
        "# Lambda function to calculate accuracy\n",
        "calculate_accuracy = lambda y_actual, y_predicted: sum(1 for actual, predicted in zip(y_actual, y_predicted) if actual == predicted) / len(y_actual)\n",
        "\n",
        "# Test Cases\n",
        "# Input 1\n",
        "y_actual = [1, 1, 0, 0, 1, 1, 0, 1]\n",
        "y_predicted = [0, 1, 0, 1, 1, 1, 0, 1]\n",
        "res_1 = calculate_accuracy(y_actual_1, y_predicted_1)\n",
        "print(res_1)  # Output: 0.75\n",
        "\n",
        "# Input 2\n",
        "y_actual_2 = [1, 1, -1, -1, 1, 1, -1, 1, -1, -1]\n",
        "y_predicted_2 = [-1, 1, -1, -1, -1, 1, -1, 1, -1, 1]\n",
        "res_2 = calculate_accuracy(y_actual_2, y_predicted_2)\n",
        "print(res_2)  # Output: 0.7"
      ]
    },
    {
      "cell_type": "markdown",
      "source": [
        "# Task 6. Get the user churn\n",
        "\n",
        "Category: Medium\n",
        "\n",
        "---"
      ],
      "metadata": {
        "id": "EOdMk1QDDWhA"
      }
    },
    {
      "cell_type": "markdown",
      "source": [
        "## Task Descriptions\n",
        "---\n",
        "- Given a userID and its subscription status, create a function to determine the number of churned (unsubscribed user) on a specific month"
      ],
      "metadata": {
        "id": "rw6bdBFrDWhh"
      }
    },
    {
      "cell_type": "markdown",
      "source": [
        "**How this works**\n",
        "- Given a set of userID and subscription status\n",
        "\n",
        "```python\n",
        "# [userId, subscribe until...]\n",
        "user_data_2019 = [\n",
        "    ['123db', 'November'],\n",
        "    ['940cj', 'January'],\n",
        "    ['859do', 'March'],\n",
        "    ['948wp', 'August'],\n",
        "    ['482po', 'August'],\n",
        "    ['742bh', 'November']\n",
        "]\n",
        "```"
      ],
      "metadata": {
        "id": "2uzF4trnDWhi"
      }
    },
    {
      "cell_type": "markdown",
      "source": [
        "- Say, we want to see the number of user churned (unsubscribed) on **March**\n",
        "  - Only user `940cj` that does not have subscription renewal until **March**\n",
        "  - So, the number of churned user is 1\n",
        "\n",
        "- Say, we want to see the number of user churned (unsubscribed) on **August**,\n",
        "  - Users `['940cj', '859do']` subscribtions end before august.\n",
        "  - Thus, the number of churned user is 2"
      ],
      "metadata": {
        "id": "qu1XQk-RK5dD"
      }
    },
    {
      "cell_type": "markdown",
      "source": [
        "## Detail function\n",
        "---"
      ],
      "metadata": {
        "id": "0DgsGgpoDWhj"
      }
    },
    {
      "cell_type": "markdown",
      "source": [
        "- Create a function named `calculate_churned` with\n",
        "  - Input\n",
        "    - `user_data` (list), contains the userId and subscribe until ...\n",
        "    - `month` (str), in english, contains month to determine the churned user\n",
        "  - Output `churned` (int), contains the number of churned user before `month`"
      ],
      "metadata": {
        "id": "wAKdUFoSDWhj"
      }
    },
    {
      "cell_type": "markdown",
      "source": [
        "## Examples\n",
        "---"
      ],
      "metadata": {
        "id": "DjCgn0N5DWhj"
      }
    },
    {
      "cell_type": "markdown",
      "source": [
        "user_data = [['123', 'March'], ['124', 'Februari'], ['125', 'January']]"
      ],
      "metadata": {
        "id": "ha0pxFfbkV_Q"
      }
    },
    {
      "cell_type": "markdown",
      "source": [
        "**Input 1**\n",
        "\n",
        "```python\n",
        "# Input\n",
        "user_data_2021 = [\n",
        "    ['5105', 'August'],\n",
        "    ['8806', 'August'],\n",
        "    ['1008', 'December'],\n",
        "    ['2655', 'October'],\n",
        "    ['5645', 'January'],\n",
        "    ['3660', 'February'],\n",
        "    ['1655', 'July'],\n",
        "    ['5772', 'January'],\n",
        "    ['4361', 'January'],\n",
        "    ['9155', 'March'],\n",
        "    ['7689', 'April'],\n",
        "    ['6967', 'December'],\n",
        "    ['6358', 'June'],\n",
        "    ['2075', 'September'],\n",
        "    ['9280', 'March'],\n",
        "    ['2815', 'December'],\n",
        "    ['7743', 'August'],\n",
        "    ['1087', 'February'],\n",
        "    ['9691', 'October'],\n",
        "    ['3397', 'June']\n",
        "]\n",
        "\n",
        "res = calculate_churned(user_data = user_data_2021,\n",
        "                        month = 'October')\n",
        "print(res)\n",
        "```\n",
        "\n",
        "**Output 1**\n",
        "```python\n",
        "15\n",
        "```"
      ],
      "metadata": {
        "id": "L8Dx5aboDWhk"
      }
    },
    {
      "cell_type": "markdown",
      "source": [
        "**Input 1**\n",
        "\n",
        "```python\n",
        "# Input\n",
        "user_data_2022 = [\n",
        "    ['2062', 'February'],\n",
        "    ['5679', 'October'],\n",
        "    ['4690', 'September'],\n",
        "    ['8748', 'March'],\n",
        "    ['8318', 'December'],\n",
        "    ['7814', 'February'],\n",
        "    ['9850', 'November'],\n",
        "    ['2154', 'September'],\n",
        "    ['7767', 'October'],\n",
        "    ['3755', 'January'],\n",
        "    ['3117', 'March'],\n",
        "    ['4197', 'December'],\n",
        "    ['7276', 'December'],\n",
        "    ['3387', 'May'],\n",
        "    ['2160', 'November'],\n",
        "    ['9626', 'October'],\n",
        "    ['5430', 'July'],\n",
        "    ['7055', 'January'],\n",
        "    ['7838', 'July'],\n",
        "    ['8991', 'May'],\n",
        "    ['6238', 'September'],\n",
        "    ['8033', 'October'],\n",
        "    ['8711', 'January'],\n",
        "    ['9999', 'December'],\n",
        "    ['9980', 'May'],\n",
        "    ['8282', 'September'],\n",
        "    ['1508', 'March'],\n",
        "    ['9899', 'January'],\n",
        "    ['4745', 'October'],\n",
        "    ['9615', 'August'],\n",
        "    ['8526', 'July'],\n",
        "    ['8736', 'January'],\n",
        "    ['6244', 'December'],\n",
        "    ['8319', 'August'],\n",
        "    ['1415', 'April'],\n",
        "    ['3413', 'March'],\n",
        "    ['1683', 'January'],\n",
        "    ['8825', 'November'],\n",
        "    ['6098', 'August'],\n",
        "    ['2627', 'February']\n",
        "]\n",
        "\n",
        "res = calculate_churned(user_data = user_data_2022,\n",
        "                        month = 'August')\n",
        "print(res)\n",
        "```\n",
        "\n",
        "**Output 1**\n",
        "```python\n",
        "20\n",
        "```"
      ],
      "metadata": {
        "id": "eVQBZZbdPJBQ"
      }
    },
    {
      "cell_type": "markdown",
      "source": [
        "## Answer\n",
        "\n",
        "---\n",
        "- Provide the code for solving the problem\n",
        "- **Make sure your function follows the `Detail Function`**"
      ],
      "metadata": {
        "id": "utpLqcoTDWhl"
      }
    },
    {
      "cell_type": "code",
      "execution_count": null,
      "metadata": {
        "id": "2cMCngmBDWhl",
        "colab": {
          "base_uri": "https://localhost:8080/"
        },
        "outputId": "8142fc6e-b61d-41ce-8f92-e6b5835ac74a"
      },
      "outputs": [
        {
          "output_type": "stream",
          "name": "stdout",
          "text": [
            "15\n",
            "20\n"
          ]
        }
      ],
      "source": [
        "# Write your code here\n",
        "# Note: You can write your input manually\n",
        "\n",
        "\n",
        "def calculate_churned(user_data, month):\n",
        "    # Define a dictionary to map month names to their respective order numbers\n",
        "    month_to_index = {\n",
        "        'January': 1, 'February': 2, 'March': 3, 'April': 4, 'May': 5, 'June': 6,\n",
        "        'July': 7, 'August': 8, 'September': 9, 'October': 10, 'November': 11, 'December': 12\n",
        "    }\n",
        "\n",
        "    # Get the index of the target month\n",
        "    target_month_index = month_to_index[month]\n",
        "\n",
        "    # Initialize a counter for churned users\n",
        "    churned_count = 0\n",
        "\n",
        "    # Iterate through each user data\n",
        "    for user_id, subscribed_until in user_data:\n",
        "        # Get the index of the month the user was subscribed until\n",
        "        subscribed_until_index = month_to_index[subscribed_until]\n",
        "\n",
        "        # Check if the user's subscription ended before the target month\n",
        "        if subscribed_until_index < target_month_index:\n",
        "            churned_count += 1\n",
        "\n",
        "    return churned_count\n",
        "\n",
        "# Test Cases\n",
        "\n",
        "# Input 1\n",
        "user_data_2021 = [\n",
        "    ['5105', 'August'],\n",
        "    ['8806', 'August'],\n",
        "    ['1008', 'December'],\n",
        "    ['2655', 'October'],\n",
        "    ['5645', 'January'],\n",
        "    ['3660', 'February'],\n",
        "    ['1655', 'July'],\n",
        "    ['5772', 'January'],\n",
        "    ['4361', 'January'],\n",
        "    ['9155', 'March'],\n",
        "    ['7689', 'April'],\n",
        "    ['6967', 'December'],\n",
        "    ['6358', 'June'],\n",
        "    ['2075', 'September'],\n",
        "    ['9280', 'March'],\n",
        "    ['2815', 'December'],\n",
        "    ['7743', 'August'],\n",
        "    ['1087', 'February'],\n",
        "    ['9691', 'October'],\n",
        "    ['3397', 'June']\n",
        "]\n",
        "\n",
        "res1 = calculate_churned(user_data=user_data_2021, month='October')\n",
        "print(res1)  # Output: 15\n",
        "\n",
        "# Input 2\n",
        "user_data_2022 = [\n",
        "    ['2062', 'February'],\n",
        "    ['5679', 'October'],\n",
        "    ['4690', 'September'],\n",
        "    ['8748', 'March'],\n",
        "    ['8318', 'December'],\n",
        "    ['7814', 'February'],\n",
        "    ['9850', 'November'],\n",
        "    ['2154', 'September'],\n",
        "    ['7767', 'November'],\n",
        "    ['3755', 'January'],\n",
        "    ['3117', 'March'],\n",
        "    ['4197', 'December'],\n",
        "    ['7276', 'December'],\n",
        "    ['3387', 'May'],\n",
        "    ['2160', 'November'],\n",
        "    ['9626', 'October'],\n",
        "    ['5430', 'July'],\n",
        "    ['7055', 'January'],\n",
        "    ['7838', 'July'],\n",
        "    ['8991', 'May'],\n",
        "    ['6238', 'September'],\n",
        "    ['8033', 'October'],\n",
        "    ['8711', 'January'],\n",
        "    ['9999', 'December'],\n",
        "    ['9980', 'May'],\n",
        "    ['8282', 'September'],\n",
        "    ['1508', 'March'],\n",
        "    ['9899', 'January'],\n",
        "    ['4745', 'October'],\n",
        "    ['9615', 'August'],\n",
        "    ['8526', 'July'],\n",
        "    ['8736', 'January'],\n",
        "    ['6244', 'December'],\n",
        "    ['8319', 'August'],\n",
        "    ['1415', 'April'],\n",
        "    ['3413', 'March'],\n",
        "    ['1683', 'January'],\n",
        "    ['8825', 'November'],\n",
        "    ['6098', 'August'],\n",
        "    ['2627', 'February']\n",
        "]\n",
        "\n",
        "res2 = calculate_churned(user_data=user_data_2022, month='August')\n",
        "print(res2)  # Output: 20"
      ]
    },
    {
      "cell_type": "code",
      "source": [],
      "metadata": {
        "id": "rHeSkimZA6jW"
      },
      "execution_count": null,
      "outputs": []
    },
    {
      "cell_type": "markdown",
      "source": [
        "# Task 7. Count Alphabet"
      ],
      "metadata": {
        "id": "11jrU358T3Gk"
      }
    },
    {
      "cell_type": "markdown",
      "source": [
        "**Task Descriptions**\n",
        "\n",
        "- Given an `input_text`\n",
        "- Your tasks are to calculate how many characters that upper case, lower case, and numeric inside the `input_text`\n",
        "- You must also count how many characters in the input\n",
        "- But there are some requirements in this task, your `input_text` must be in the correct format like there must be a whitespace inside the string.\n",
        "- If the requirements are not met, it will print a message **`\"Not a Valid Text\"`**"
      ],
      "metadata": {
        "id": "x1N8mFgtGaD5"
      }
    },
    {
      "cell_type": "markdown",
      "source": [
        "**Input - 1**\n",
        "\n",
        "```py\n",
        "count_alphabet(\"Komm, süsser Tod\")\n",
        "```"
      ],
      "metadata": {
        "id": "Gkg3OZx_IGl3"
      }
    },
    {
      "cell_type": "markdown",
      "source": [
        "**Output - 1**\n",
        "\n",
        "```py\n",
        "Total Character: 13\n",
        "Count Upper Case: 2, Count Lower Case: 11, Count Digit: 0\n",
        "```"
      ],
      "metadata": {
        "id": "51R3WdcVIXz5"
      }
    },
    {
      "cell_type": "markdown",
      "source": [
        "**Input - 2**\n",
        "\n",
        "```py\n",
        "count_alphabet(\"Kode Pos dari Pasar Minggu adalah 12560\")\n",
        "```"
      ],
      "metadata": {
        "id": "ILG-3A8tI1F8"
      }
    },
    {
      "cell_type": "markdown",
      "source": [
        "**Output - 2**\n",
        "\n",
        "```py\n",
        "Total Character: 33\n",
        "Count Upper Case: 4, Count Lower Case: 24, Count Digit: 5\n",
        "```"
      ],
      "metadata": {
        "id": "vbCFkZHEI4yc"
      }
    },
    {
      "cell_type": "markdown",
      "source": [
        "**Input - 3**\n",
        "\n",
        "```py\n",
        "count_alphabet(\"BesokKitaPergiMakan\")\n",
        "```"
      ],
      "metadata": {
        "id": "PUSPMtC9I-59"
      }
    },
    {
      "cell_type": "markdown",
      "source": [
        "**Output - 3**\n",
        "\n",
        "```py\n",
        "Not a Valid Text\n",
        "```"
      ],
      "metadata": {
        "id": "MXcm91ymJSm6"
      }
    },
    {
      "cell_type": "code",
      "source": [
        "# def count_alphabet(input_text):\n",
        "# Write code here\n",
        "\n",
        "def count_alphabet(input_text):\n",
        "    # Check if there is a whitespace in the input text\n",
        "    if ' ' not in input_text:\n",
        "        print(\"Not a Valid Text\")\n",
        "        return\n",
        "\n",
        "    # Initialize counters\n",
        "    upper_count = 0\n",
        "    lower_count = 0\n",
        "    digit_count = 0\n",
        "    total_characters = 0\n",
        "\n",
        "    # Loop through each character in the input text\n",
        "    for char in input_text:\n",
        "        if char.isupper():\n",
        "            upper_count += 1\n",
        "        elif char.islower():\n",
        "            lower_count += 1\n",
        "        elif char.isdigit():\n",
        "            digit_count += 1\n",
        "\n",
        "        # Increase the total characters count (excluding spaces)\n",
        "        if char != ' ':\n",
        "            total_characters += 1\n",
        "\n",
        "    # Print the results\n",
        "    print(f\"Total Character: {total_characters}\")\n",
        "    print(f\"Count Upper Case: {upper_count}, Count Lower Case: {lower_count}, Count Digit: {digit_count}\")\n",
        "\n",
        "# Test cases\n",
        "count_alphabet(\"MakididAW 14045\")\n"
      ],
      "metadata": {
        "id": "NTgm_usRmdz2",
        "colab": {
          "base_uri": "https://localhost:8080/"
        },
        "outputId": "b2ceffea-3751-4ac8-b097-0b0988258dd9"
      },
      "execution_count": null,
      "outputs": [
        {
          "output_type": "stream",
          "name": "stdout",
          "text": [
            "Total Character: 14\n",
            "Count Upper Case: 3, Count Lower Case: 6, Count Digit: 5\n"
          ]
        }
      ]
    },
    {
      "cell_type": "code",
      "source": [
        "count_alphabet(\"Makidi 14045\")"
      ],
      "metadata": {
        "colab": {
          "base_uri": "https://localhost:8080/"
        },
        "id": "cIaJYX99mml1",
        "outputId": "08f8b124-6a07-4144-831a-faf3e8af0364"
      },
      "execution_count": null,
      "outputs": [
        {
          "output_type": "stream",
          "name": "stdout",
          "text": [
            "Total Character: 11\n",
            "Count Upper Case: 1, Count Lower Case: 5, Count Digit: 5\n"
          ]
        }
      ]
    },
    {
      "cell_type": "code",
      "source": [],
      "metadata": {
        "id": "kGHySllaU2sd"
      },
      "execution_count": null,
      "outputs": []
    }
  ]
}