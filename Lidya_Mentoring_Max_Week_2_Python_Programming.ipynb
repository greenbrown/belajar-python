{
  "nbformat": 4,
  "nbformat_minor": 0,
  "metadata": {
    "colab": {
      "provenance": [],
      "collapsed_sections": [
        "QjkBfBPYQuBp"
      ],
      "include_colab_link": true
    },
    "kernelspec": {
      "name": "python3",
      "display_name": "Python 3"
    },
    "language_info": {
      "name": "python"
    }
  },
  "cells": [
    {
      "cell_type": "markdown",
      "metadata": {
        "id": "view-in-github",
        "colab_type": "text"
      },
      "source": [
        "<a href=\"https://colab.research.google.com/github/greenbrown/belajar-python/blob/main/Lidya_Mentoring_Max_Week_2_Python_Programming.ipynb\" target=\"_parent\"><img src=\"https://colab.research.google.com/assets/colab-badge.svg\" alt=\"Open In Colab\"/></a>"
      ]
    },
    {
      "cell_type": "markdown",
      "source": [
        "# Week 2 - Python Programming\n",
        "---\n",
        "\n",
        "Mentoring Session - Job Preparation Program - Pacmann AI"
      ],
      "metadata": {
        "id": "oiHKP1fFcQg8"
      }
    },
    {
      "cell_type": "markdown",
      "source": [
        "# Task 1. Calculate Average Sessions"
      ],
      "metadata": {
        "id": "QjkBfBPYQuBp"
      }
    },
    {
      "cell_type": "markdown",
      "source": [
        "**Task Descriptions**\n",
        "\n",
        "- PacBook is a Social Media platform and they want to know what is their user Average Sessions and Session Duration for each data\n",
        "- Given a three input for `load_time` (in minutes) and `exit_time` (in minutes)\n",
        "\n",
        "- To calculate Session Duration, you can use this formula\n",
        "\n",
        "$$\n",
        "\\text{Session}_\\text{duration} = \\text{exit}_\\text{time} - \\text{load}_\\text{time}\n",
        "$$\n",
        "\n",
        "- To calculate Average Sessions, you can use this formula\n",
        "\n",
        "$$\n",
        "\\text{Average}_\\text{sessions} = \\frac{\\sum_{n=1}^{3}{\\text{Session_duration}_{n}}}{\\text{N_SESSIONS}}\n",
        "$$\n",
        "\n",
        "- But there are some constraints in this task\n",
        "  - If the input for `load_time` and `exit_time` is less than zero or negative values, it will print the result **`\"Not a Valid Input\"`**"
      ],
      "metadata": {
        "id": "swuueRxlUZLd"
      }
    },
    {
      "cell_type": "markdown",
      "source": [
        "**Input - 1**\n",
        "\n",
        "```py\n",
        "load_time_1 = 5\n",
        "exit_time_1 = 10\n",
        "\n",
        "load_time_2 = 2\n",
        "exit_time_2 = 15.5\n",
        "\n",
        "load_time_3 = 1\n",
        "exit_time_3 = 22.3\n",
        "```"
      ],
      "metadata": {
        "id": "Ik-_m7EQ3fXf"
      }
    },
    {
      "cell_type": "markdown",
      "source": [
        "**Output - 1**\n",
        "\n",
        "```py\n",
        "Session 1 Duration (in minutes): 5\n",
        "Session 2 Duration (in minutes): 13.5\n",
        "Session 3 Duration (in minutes): 21.3\n",
        "Average Session Duration (in minutes): 13.27\n",
        "```"
      ],
      "metadata": {
        "id": "mHkWLiAE3iMw"
      }
    },
    {
      "cell_type": "markdown",
      "source": [
        "**Input - 2**\n",
        "\n",
        "```py\n",
        "load_time_1 = 0\n",
        "exit_time_1 = 0\n",
        "\n",
        "load_time_2 = 0\n",
        "exit_time_2 = 0\n",
        "\n",
        "load_time_3 = 0\n",
        "exit_time_3 = 0\n",
        "```"
      ],
      "metadata": {
        "id": "5gIubmCR2vfI"
      }
    },
    {
      "cell_type": "markdown",
      "source": [
        "**Output - 2**\n",
        "\n",
        "```py\n",
        "Session 1 Duration (in minutes): 0\n",
        "Session 2 Duration (in minutes): 0\n",
        "Session 3 Duration (in minutes): 0\n",
        "Average Session Duration (in minutes): 0\n",
        "```"
      ],
      "metadata": {
        "id": "ZHXTFNaU232E"
      }
    },
    {
      "cell_type": "markdown",
      "source": [
        "**Input - 3**"
      ],
      "metadata": {
        "id": "O62tQZyJ3pSt"
      }
    },
    {
      "cell_type": "markdown",
      "source": [
        "```py\n",
        "load_time_1 = 3\n",
        "exit_time_1 = 7\n",
        "\n",
        "load_time_2 = -2\n",
        "exit_time_2 = 5\n",
        "\n",
        "load_time_3 = 3\n",
        "exit_time_3 = 156\n",
        "```"
      ],
      "metadata": {
        "id": "ljEAZIWj5sE8"
      }
    },
    {
      "cell_type": "markdown",
      "source": [
        "**Output - 3**\n",
        "\n",
        "```py\n",
        "Not a Valid Input\n",
        "```"
      ],
      "metadata": {
        "id": "6ivQBiJZ6DBC"
      }
    },
    {
      "cell_type": "code",
      "source": [
        "# Write your code here\n",
        "\n",
        "# Input 1:\n",
        "# load_time_1 = 5\n",
        "# exit_time_1 = 10\n",
        "\n",
        "# load_time_2 = 2\n",
        "# exit_time_2 = 15.5\n",
        "\n",
        "# load_time_3 = 1\n",
        "# exit_time_3 = 22.3\n",
        "\n",
        "# Input 2\n",
        "load_time_1 = 0\n",
        "exit_time_1 = 0\n",
        "\n",
        "load_time_2 = 0\n",
        "exit_time_2 = 0\n",
        "\n",
        "load_time_3 = 0\n",
        "exit_time_3 = 0\n",
        "\n",
        "#Input 3\n",
        "# load_time_1 = 3\n",
        "# exit_time_1 = 7\n",
        "\n",
        "# load_time_2 = -2\n",
        "# exit_time_2 = 5\n",
        "\n",
        "# load_time_3 = 3\n",
        "# exit_time_3 = 156\n",
        "\n",
        "\n",
        "\n",
        "#Code\n",
        "if load_time_1 < 0 or exit_time_1 < 0 or load_time_2 < 0 or exit_time_2 < 0 or load_time_3 < 0 or exit_time_3 < 0:\n",
        "    print(\"Not a Valid Input\")\n",
        "else:\n",
        "    session_duration_1 = exit_time_1 - load_time_1\n",
        "    session_duration_2 = exit_time_2 - load_time_2\n",
        "    session_duration_3 = exit_time_3 - load_time_3\n",
        "    average_duration = (session_duration_1 + session_duration_2 + session_duration_3) / 3\n",
        "    print(f\"Session 1 Duration (in minutes): {session_duration_1}\")\n",
        "    print(f\"Session 2 Duration (in minutes): {session_duration_2}\")\n",
        "    print(f\"Session 3 Duration (in minutes): {session_duration_3}\")\n",
        "    print(f\"Average Session Duration (in minutes): {average_duration:.2f}\")"
      ],
      "metadata": {
        "colab": {
          "base_uri": "https://localhost:8080/"
        },
        "id": "xBjFB0GDQr-Z",
        "outputId": "b998b4cd-9b6c-4438-f5b2-7190334f3eb3"
      },
      "execution_count": 2,
      "outputs": [
        {
          "output_type": "stream",
          "name": "stdout",
          "text": [
            "Session 1 Duration (in minutes): 0\n",
            "Session 2 Duration (in minutes): 0\n",
            "Session 3 Duration (in minutes): 0\n",
            "Average Session Duration (in minutes): 0.00\n"
          ]
        }
      ]
    },
    {
      "cell_type": "code",
      "source": [
        "![picture](https://drive.google.com/uc?id=19jSeiHD2hMO-3t_TbrSDxRNxXKXIteRz)"
      ],
      "metadata": {
        "colab": {
          "base_uri": "https://localhost:8080/"
        },
        "id": "Gxxjmcy6dW29",
        "outputId": "56607a40-ab38-4110-b88c-9a7ed857898d"
      },
      "execution_count": 2,
      "outputs": [
        {
          "output_type": "stream",
          "name": "stdout",
          "text": [
            "/bin/bash: -c: line 1: syntax error near unexpected token `https://drive.google.com/uc?id=19jSeiHD2hMO-3t_TbrSDxRNxXKXIteRz'\n",
            "/bin/bash: -c: line 1: `[picture](https://drive.google.com/uc?id=19jSeiHD2hMO-3t_TbrSDxRNxXKXIteRz)'\n"
          ]
        }
      ]
    },
    {
      "cell_type": "markdown",
      "source": [
        "# Task 2. Temperature Converter Calculator\n",
        "\n",
        "Category: Medium\n",
        "\n",
        "---"
      ],
      "metadata": {
        "id": "HBpPiNIxd7os"
      }
    },
    {
      "cell_type": "markdown",
      "source": [
        "**Task Descriptions**\n",
        "- There are several unit of temperatures use by people around the world.\n",
        "  - For general people: Celcius or Fahrenheit\n",
        "  - For academic purposes: Kelvin\n",
        "- Your task is to create a temperature converter calculator.\n",
        "  - Celcius to Kelvin, vice versa\n",
        "  - Fahrenheit to Kelvin, vice versa\n",
        "  - Celcius to Fahrenheit, vice versa\n",
        "- **Addition**: Find how to convert the temperature by yourself."
      ],
      "metadata": {
        "id": "2t4h6o_Kd7ou"
      }
    },
    {
      "cell_type": "markdown",
      "source": [
        "**Input**\n",
        "\n",
        "```python\n",
        "temp = 20\n",
        "from_unit = 'Celcius'\n",
        "to_unit = 'Fahrenheit'\n",
        "```"
      ],
      "metadata": {
        "id": "SXFeDQkLd7ow"
      }
    },
    {
      "cell_type": "markdown",
      "source": [
        "**Output**\n",
        "```\n",
        "20 Celcius is equal to 68 Fahrenheit\n",
        "```"
      ],
      "metadata": {
        "id": "sHSt4LBEd7ox"
      }
    },
    {
      "cell_type": "markdown",
      "source": [
        "**Questions 1**\n",
        "\n",
        "---\n",
        "Draw your code flowchart"
      ],
      "metadata": {
        "id": "VrI6kmyUfq6H"
      }
    },
    {
      "cell_type": "markdown",
      "source": [
        "[picture](https://drive.google.com/uc?id=1Waum1ZHZ2qBVbjv-UGoAME0AIWuWCxLz)\n"
      ],
      "metadata": {
        "id": "jdZDV7Bufq6i"
      }
    },
    {
      "cell_type": "markdown",
      "source": [
        "**Questions 2**\n",
        "\n",
        "---\n",
        "Create your code based on the flowchart"
      ],
      "metadata": {
        "id": "85ajEoeqfq6p"
      }
    },
    {
      "cell_type": "code",
      "execution_count": 11,
      "metadata": {
        "id": "jRiezMKUfq6v",
        "colab": {
          "base_uri": "https://localhost:8080/"
        },
        "outputId": "f256b155-4a76-4522-8819-27c94562820b"
      },
      "outputs": [
        {
          "output_type": "stream",
          "name": "stdout",
          "text": [
            "20 Celsius is equal to 293.15 Kelvin\n"
          ]
        }
      ],
      "source": [
        "# Write your code here\n",
        "\n",
        "temp = 20\n",
        "from_unit = 'Celsius'\n",
        "to_unit = 'Kelvin'\n",
        "\n",
        "# Convert units to lowercase for case insensitivity\n",
        "from_unit = from_unit.lower()\n",
        "to_unit = to_unit.lower()\n",
        "\n",
        "# Check if input and output units are the same\n",
        "if from_unit == to_unit:\n",
        "    print(\"Input and output units are the same. No conversion needed.\")\n",
        "else:\n",
        "    # Conversion logic\n",
        "    if from_unit == 'celsius' and to_unit == 'fahrenheit':\n",
        "        result = round((temp * 9/5) + 32, 2)\n",
        "        print(str(temp) + \" Celsius is equal to \" + str(result) + \" Fahrenheit\")\n",
        "    elif from_unit == 'fahrenheit' and to_unit == 'celsius':\n",
        "        result = round((temp - 32) * 5/9, 2)\n",
        "        print(str(temp) + \" Fahrenheit is equal to \" + str(result) + \" Celsius\")\n",
        "    elif from_unit == 'celsius' and to_unit == 'kelvin':\n",
        "        result = round(temp + 273.15, 2)\n",
        "        print(str(temp) + \" Celsius is equal to \" + str(result) + \" Kelvin\")\n",
        "    elif from_unit == 'kelvin' and to_unit == 'celsius':\n",
        "        result = round(temp - 273.15, 2)\n",
        "        print(str(temp) + \" Kelvin is equal to \" + str(result) + \" Celsius\")\n",
        "    elif from_unit == 'fahrenheit' and to_unit == 'kelvin':\n",
        "        result = round((temp - 32) * 5/9 + 273.15, 2)\n",
        "        print(str(temp) + \" Fahrenheit is equal to \" + str(result) + \" Kelvin\")\n",
        "    elif from_unit == 'kelvin' and to_unit == 'fahrenheit':\n",
        "        result = round((temp - 273.15) * 9/5 + 32, 2)\n",
        "        print(str(temp) + \" Kelvin is equal to \" + str(result) + \" Fahrenheit\")\n",
        "    else:\n",
        "        print(\"Invalid units. Please use Celsius, Fahrenheit, or Kelvin.\")\n"
      ]
    },
    {
      "cell_type": "markdown",
      "source": [
        "# Task 3. Extract NIK (Nomor Induk Kependudukan) Data\n",
        "\n",
        "Category: Hard\n",
        "\n",
        "---"
      ],
      "metadata": {
        "id": "oMGlSKoCfuy-"
      }
    },
    {
      "cell_type": "markdown",
      "source": [
        "**Task Descriptions**\n",
        "- NIK is not some random numbers. You can extract information from the NIK.\n",
        "  - The first six digits are a province, regency, and district code\n",
        "  - The next six digits are the date of birth; DD-MM-YY, respectively\n",
        "    - For men, the date of birth ranged between 01-31\n",
        "    - For women, the date of birth is added with 40, hence ranged between 41-71.\n",
        "  - The last 4 digits are a serial number of NIK issuance.\n",
        "\n",
        "\n",
        "- Given **two** NIK, your tasks are\n",
        "  1. Extract the date of birth of each NIK\n",
        "  2. Extract their gender.\n",
        "  3. Extract whether they have similar gender.\n",
        "  4. Extract whether they have similar month of birth."
      ],
      "metadata": {
        "id": "zA6xNheyfuzA"
      }
    },
    {
      "cell_type": "markdown",
      "source": [
        "**Input**\n",
        "\n",
        "```python\n",
        "nik_1 = 1571011709860003\n",
        "nik_2 = 2404075109910009\n",
        "```"
      ],
      "metadata": {
        "id": "mAxaxYujfuzD"
      }
    },
    {
      "cell_type": "markdown",
      "source": [
        "**Output**\n",
        "```\n",
        "Date of Birth\n",
        "- NIK 1 : 17-09-86\n",
        "- NIK 2 : 11-09-91\n",
        "\n",
        "Gender\n",
        "- NIK 1 : Male\n",
        "- NIK 2 : Female\n",
        "\n",
        "Do they have similar gender?\n",
        "No\n",
        "\n",
        "Do they have similar month of birth?\n",
        "Yes, it is on September\n",
        "```"
      ],
      "metadata": {
        "id": "S89bi74tfuzE"
      }
    },
    {
      "cell_type": "markdown",
      "source": [],
      "metadata": {
        "id": "SKFeGqu4exUY"
      }
    },
    {
      "cell_type": "markdown",
      "source": [
        "**Questions 1**\n",
        "\n",
        "---\n",
        "Draw your code flowchart"
      ],
      "metadata": {
        "id": "VXVzZLeAfuzG"
      }
    },
    {
      "cell_type": "markdown",
      "source": [
        "![picture](https://drive.google.com/uc?id=14ytAUhI3lgDIYNi0vT8xUqFbB7kTjUzC)"
      ],
      "metadata": {
        "id": "PlnLVk45fuzL"
      }
    },
    {
      "cell_type": "markdown",
      "source": [
        "**Questions 2**\n",
        "\n",
        "---\n",
        "Create your code based on the flowchart"
      ],
      "metadata": {
        "id": "Qu7qITjNfuzN"
      }
    },
    {
      "cell_type": "code",
      "execution_count": 1,
      "metadata": {
        "id": "Eb60OMfVfuzO",
        "colab": {
          "base_uri": "https://localhost:8080/"
        },
        "outputId": "b2ace9e7-aeac-45bb-eb21-49736f837065"
      },
      "outputs": [
        {
          "output_type": "stream",
          "name": "stdout",
          "text": [
            "Date of Birth\n",
            "- NIK 1 : 17-02-21\n",
            "- NIK 2 : 09-02-91\n",
            "\n",
            "Gender\n",
            "- NIK 1 : Male\n",
            "- NIK 2 : Male\n",
            "\n",
            "Do they have similar gender?\n",
            "Yes\n",
            "\n",
            "Do they have similar month of birth?\n",
            "Yes, it is on February\n"
          ]
        }
      ],
      "source": [
        "# Write your code here\n",
        "\n",
        "# Input NIK values\n",
        "nik_1 = 1571011702210003\n",
        "nik_2 = 2404070902910009\n",
        "\n",
        "# Convert NIK to string for indexing\n",
        "nik_1_str = str(nik_1)\n",
        "nik_2_str = str(nik_2)\n",
        "\n",
        "# Extracting date of birth and gender from NIK 1\n",
        "day1 = int(nik_1_str[6:8])\n",
        "month1 = int(nik_1_str[8:10])\n",
        "year1 = int(nik_1_str[10:12])\n",
        "\n",
        "if 1 <= day1 <= 31:\n",
        "    gender1 = \"Male\"\n",
        "    dob1 = f\"{day1:02}-{month1:02}-{year1:02}\"\n",
        "elif 41 <= day1 <= 71:\n",
        "    gender1 = \"Female\"\n",
        "    day1 -= 40\n",
        "    dob1 = f\"{day1:02}-{month1:02}-{year1:02}\"\n",
        "else:\n",
        "    gender1 = \"Invalid\"\n",
        "    dob1 = \"Invalid\"\n",
        "\n",
        "# Extracting date of birth and gender from NIK 2\n",
        "day2 = int(nik_2_str[6:8])\n",
        "month2 = int(nik_2_str[8:10])\n",
        "year2 = int(nik_2_str[10:12])\n",
        "\n",
        "if 1 <= day2 <= 31:\n",
        "    gender2 = \"Male\"\n",
        "    dob2 = f\"{day2:02}-{month2:02}-{year2:02}\"\n",
        "elif 41 <= day2 <= 71:\n",
        "    gender2 = \"Female\"\n",
        "    day2 -= 40\n",
        "    dob2 = f\"{day2:02}-{month2:02}-{year2:02}\"\n",
        "else:\n",
        "    gender2 = \"Invalid\"\n",
        "    dob2 = \"Invalid\"\n",
        "\n",
        "# Month mapping\n",
        "months = {\n",
        "    1: \"January\", 2: \"February\", 3: \"March\", 4: \"April\",\n",
        "    5: \"May\", 6: \"June\", 7: \"July\", 8: \"August\",\n",
        "    9: \"September\", 10: \"October\", 11: \"November\", 12: \"December\"\n",
        "}\n",
        "\n",
        "# Check for similar gender and month of birth\n",
        "similar_gender = gender1 == gender2\n",
        "similar_month = (month1 == month2) and (dob1 != \"Invalid\") and (dob2 != \"Invalid\")\n",
        "\n",
        "# Output the results\n",
        "print(\"Date of Birth\")\n",
        "print(f\"- NIK 1 : {dob1}\")\n",
        "print(f\"- NIK 2 : {dob2}\\n\")\n",
        "\n",
        "print(\"Gender\")\n",
        "print(f\"- NIK 1 : {gender1}\")\n",
        "print(f\"- NIK 2 : {gender2}\\n\")\n",
        "\n",
        "print(\"Do they have similar gender?\")\n",
        "print(\"Yes\\n\" if similar_gender else \"No\\n\")\n",
        "\n",
        "print(\"Do they have similar month of birth?\")\n",
        "if similar_month:\n",
        "    print(f\"Yes, it is on {months[month1]}\")\n",
        "else:\n",
        "    print(\"No\")\n"
      ]
    },
    {
      "cell_type": "markdown",
      "source": [
        "# Task 4. Calculate Pajak Penghasilan (Simplified)\n",
        "\n",
        "Category: Hard\n",
        "\n",
        "---"
      ],
      "metadata": {
        "id": "Bwed_S8cjsIO"
      }
    },
    {
      "cell_type": "markdown",
      "source": [
        "**Task Descriptions**\n",
        "- According to Pemotongan Pajak Penghasilan PPh Pasal 21 Tahun 2016, we can calculate our income tax as (we'll write in Bahasa Indonesia for avoiding missinterpretation)\n",
        "\n",
        "- **Penghasilan tidak kena pajak (PTKP)**\n",
        "  - Penghasilan Rp 54.000.000 setahun untuk wajib pajak.\n",
        "  - Tambahan Rp 4.500.000 diberikan jika wajib pajak menikah.\n",
        "  - Tambahan Rp 4.500.000 lagi jika punya 1 orang anak atau Rp 9.000.000 jika punya 2 orang anak. Apabila jumlah tanggungan lebih dari itu, maka tetap dihitung 3 orang tanggungan.\n",
        "\n",
        "- **Tarif Pajak Penghasilan**\n",
        "  - 5% untuk penghasilan kena pajak (PKP) sampai dengan 60 Juta\n",
        "  - 15% untuk PKP di atas 60 juta sampai dengan 250 Juta\n",
        "  - 25% untuk PKP di atas 250 juta sampai dengan 500 juta\n",
        "  - 30% untuk PKP di atas 500 juta sampai dengan 5 miliar\n",
        "  - 35% untuk PKP di atas 5 miliar\n",
        "\n",
        "- Your task is calculate the income tax given\n",
        "  - Monthly income\n",
        "  - Marital status\n",
        "  - The number of dependents (jumlah tanggungan)"
      ],
      "metadata": {
        "id": "zoDj-s5RjsIR"
      }
    },
    {
      "cell_type": "markdown",
      "source": [
        "**Input - 1**\n",
        "\n",
        "```python\n",
        "monthly_income = 4750000\n",
        "marital_status = 'single'\n",
        "n_dependents = 0\n",
        "```"
      ],
      "metadata": {
        "id": "6Z-n6OrpjsIT"
      }
    },
    {
      "cell_type": "markdown",
      "source": [
        "**Output - 1**\n",
        "```\n",
        "Penghasilan neto setahun:\n",
        "57000000\n",
        "\n",
        "PTKP TK/0:\n",
        "-54000000\n",
        "\n",
        "Penghasilan Kena Pajak:\n",
        "3000000\n",
        "\n",
        "PPh 21 terutang setahun:\n",
        "150000\n",
        "```"
      ],
      "metadata": {
        "id": "4J86ID58jsIU"
      }
    },
    {
      "cell_type": "markdown",
      "source": [
        "**Input - 2**\n",
        "\n",
        "```python\n",
        "monthly_income = 15000000\n",
        "marital_status = 'married'\n",
        "n_dependents = 3\n",
        "```"
      ],
      "metadata": {
        "id": "I3vgqcHSpcRx"
      }
    },
    {
      "cell_type": "markdown",
      "source": [
        "**Output - 2**\n",
        "```\n",
        "Penghasilan neto setahun:\n",
        "180000000\n",
        "\n",
        "PTKP K/3:\n",
        "-72000000\n",
        "\n",
        "Penghasilan Kena Pajak:\n",
        "108000000\n",
        "\n",
        "PPh 21 terutang setahun:\n",
        "16200000\n",
        "```"
      ],
      "metadata": {
        "id": "Wuy3LHIGpcSr"
      }
    },
    {
      "cell_type": "markdown",
      "source": [
        "**Questions 1**\n",
        "\n",
        "---\n",
        "Draw your code flowchart"
      ],
      "metadata": {
        "id": "iUT8TvxFjsIW"
      }
    },
    {
      "cell_type": "markdown",
      "source": [
        "![picture](https://drive.google.com/uc?id=13BO-1gar8mUz8BRK-kBQR_5_4WlbF1TI)\n"
      ],
      "metadata": {
        "id": "EGFOt7TZjsIX"
      }
    },
    {
      "cell_type": "markdown",
      "source": [
        "**Questions 2**\n",
        "\n",
        "---\n",
        "Create your code based on the flowchart"
      ],
      "metadata": {
        "id": "DpEkIMiJjsIY"
      }
    },
    {
      "cell_type": "code",
      "execution_count": 28,
      "metadata": {
        "id": "DQkvhd4TjsIa",
        "colab": {
          "base_uri": "https://localhost:8080/"
        },
        "outputId": "96a0d4af-e7c2-49d7-a532-054a22b8a339"
      },
      "outputs": [
        {
          "output_type": "stream",
          "name": "stdout",
          "text": [
            "Penghasilan Neto Setahun\n",
            "93000000\n",
            "\n",
            "PTKP K/1\n",
            "14400000\n",
            "\n",
            "Penghasilan Kena Pajak:\n",
            "78600000\n",
            "\n",
            "PPh 21 terutang setahun:\n",
            "11790000\n"
          ]
        }
      ],
      "source": [
        "# Write your code here\n",
        "monthly_income = 7_750_000\n",
        "marital_status = 'married'\n",
        "n_dependents = 1\n",
        "\n",
        "# hitung penghasilan tahunan\n",
        "yearly_income = monthly_income * 12\n",
        "\n",
        "# penghasilan tidak kena pajak (PTKP)\n",
        "ptkp = 0\n",
        "child_dependent = 0\n",
        "\n",
        "# penghasilan kena pajak (PKP)\n",
        "pkp = 0\n",
        "pph21 = 0\n",
        "\n",
        "#hitung pajak terutang\n",
        "if yearly_income >= 54_000_000:\n",
        "  ptkp += 5_400_000\n",
        "\n",
        "  if marital_status == 'married': #ptkp menikah\n",
        "    ptkp += 4_500_000\n",
        "\n",
        "  if n_dependents > 0:\n",
        "    if (n_dependents > 3):\n",
        "      ptkp += 4_500_000 * 3\n",
        "      child_dependent = 3\n",
        "    else:\n",
        "      ptkp += 4_500_000 * n_dependents\n",
        "      child_dependent = n_dependents\n",
        "\n",
        "  pkp = yearly_income - ptkp # Dedent this line to align with the outer 'if' block\n",
        "\n",
        "#hitung pph 21\n",
        "  if(pkp > 0): # Dedent this line to align with the outer 'if' block\n",
        "    if(pkp <= 60_000_000):\n",
        "      pph21 = 0.05 * pkp\n",
        "    elif(60_000_000 <= pkp <= 250_000_000):\n",
        "      pph21 = 0.15 * pkp\n",
        "    elif(250_000_000 <= pkp <= 500_000_000):\n",
        "      pph21 = 0.25 * pkp\n",
        "    elif (1_000_000_000 <= pkp <= 5_000_000_000): # Changed 'else' to 'elif' and fixed the condition\n",
        "      pph21 = 0.30 * pkp\n",
        "  else: # Dedent this line to align with the outer 'if' block\n",
        "    pph21 = 0\n",
        "\n",
        "  print(\"Penghasilan Neto Setahun\")\n",
        "  print(yearly_income)\n",
        "  print(f\"\\nPTKP K/{child_dependent}\")\n",
        "  print(f\"{ptkp}\")\n",
        "  print(f\"\\nPenghasilan Kena Pajak:\")\n",
        "  print(f\"{pkp}\")\n",
        "  print(\"\\nPPh 21 terutang setahun:\")\n",
        "  print(int(pph21))\n",
        "\n",
        "else:\n",
        "  print(\"Tidak kena pajak\")"
      ]
    }
  ]
}